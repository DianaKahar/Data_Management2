{
  "nbformat": 4,
  "nbformat_minor": 0,
  "metadata": {
    "colab": {
      "provenance": [],
      "authorship_tag": "ABX9TyOkEbM2g7RrKKWxf33xcTmk",
      "include_colab_link": true
    },
    "kernelspec": {
      "name": "python3",
      "display_name": "Python 3"
    },
    "language_info": {
      "name": "python"
    }
  },
  "cells": [
    {
      "cell_type": "markdown",
      "metadata": {
        "id": "view-in-github",
        "colab_type": "text"
      },
      "source": [
        "<a href=\"https://colab.research.google.com/github/DianaKahar/Data_Management2/blob/main/P137263_Assignment2.ipynb\" target=\"_parent\"><img src=\"https://colab.research.google.com/assets/colab-badge.svg\" alt=\"Open In Colab\"/></a>"
      ]
    },
    {
      "cell_type": "markdown",
      "source": [
        "#**ASSIGNMENT 2**"
      ],
      "metadata": {
        "id": "6-_nUWmLTgcf"
      }
    },
    {
      "cell_type": "markdown",
      "source": [
        "#**STQD6324 DATA MANAGEMENT**"
      ],
      "metadata": {
        "id": "ZhgrEYjkUFoc"
      }
    },
    {
      "cell_type": "markdown",
      "source": [
        "**INTRODUCTION**"
      ],
      "metadata": {
        "id": "gv15em8rUKIA"
      }
    },
    {
      "cell_type": "markdown",
      "source": [
        "Aviation is one of the leading forms of modern transportation which enables us to connect cities, countries and continents. Air travel is one of the most popular and fastest modes of transportation for long distance traveling. Usually traveling from Kuala Lumpur to Singapore by bus would take 5 hours to arrive while it takes only 1 hour and 10 minutes by plane. However, the reliability of air transportation is usually affected by delays and cancellations which can cause disruption of flight schedules, and cause dissatisfaction for customers and organizations. Analyzing the patterns helps us understand the factors which lead to the disruptions that can help airlines and passengers make better decisions.\n",
        "\n",
        "In this project, we explore a comprehensive dataset encompassing airline performance data from 1995 to 2007, sourced from Kaggle. The dataset provides detailed information about flight schedules, delays, cancellations, and various contributing factors. By analyzing this data, we aim to answer several pertinent questions that can help in understanding and potentially mitigating flight delays and cancellations:\n",
        "\n",
        "Optimal Times for Minimizing Flight Delays: We examine the data to determine the best times of day, days of the week, and times of the year to fly to minimize the likelihood of delays.\n",
        "\n",
        "Primary Factors Contributing to Flight Delays: By analyzing different types of delays, such as carrier delays, weather delays, and others, we identify the primary factors that contribute to flight delays.\n",
        "\n",
        "Factors Predominantly Leading to Flight Cancellations: We investigate the reasons for flight cancellations, identifying which factors most commonly lead to flights being canceled.\n",
        "\n",
        "Flights with the Most Frequent and Significant Delays and Cancellations: We identify specific flights that experience the most frequent and significant delays and cancellations, providing insights into potential problem areas.\n",
        "\n",
        "To answer these questions, we utilize Apache Hive for querying the large dataset efficiently and Python for visualizing the results. Hive allows us to perform complex queries on the dataset stored in Hadoop, while Python, with libraries like Pandas, Matplotlib, and Seaborn, helps in visualizing the findings to uncover meaningful patterns and insights.\n",
        "\n",
        "By combining data-driven analysis with visual representation, this project aims to provide a clear understanding of flight delays and cancellations, offering valuable insights for airlines, airports, and passengers to improve their air travel experience.\n"
      ],
      "metadata": {
        "id": "llnwPPpZUOx6"
      }
    },
    {
      "cell_type": "markdown",
      "source": [
        "**DATASET INFORMATION**"
      ],
      "metadata": {
        "id": "VfFJ8fyZUTRO"
      }
    },
    {
      "cell_type": "markdown",
      "source": [
        "The dataset was obtained from Kaggle.com, titled \"Data Expo 2009: Airline On Time Data\". The dataset contains 26 csv files and 658 columns which provides specific information on flight data from 1989 to 2008. However, for this assignment, only year 2005 was chosen for analysis.\n",
        "\n",
        "The variables within this ‘flight2005’ dataset:\n",
        "\n",
        "1. Year           \n",
        "2. Month              \n",
        "3. DayofMonth         \n",
        "4. DayOfWeek           \n",
        "5. DepTime            \n",
        "6. CRSDepTime         \n",
        "7. ArrTime            \n",
        "8. CRSArrTime        \n",
        "9. UniqueCarrier      \n",
        "10. FlightNum          \n",
        "11. TailNum            \n",
        "12. ActualElapsedTime  \n",
        "13. CRSElapsedTime    \n",
        "14. AirTime      \n",
        "15. ArrDelay           \n",
        "16. DepDelay          \n",
        "17. Origin             \n",
        "18. Dest               \n",
        "19. Distance           \n",
        "20. TaxiIn             \n",
        "21. TaxiOut             \n",
        "22. Cancelled           \n",
        "23. CancellationCode   \n",
        "24. Diverted           \n",
        "25. CarrierDelay        \n",
        "26. WeatherDelay       \n",
        "27. NASDelay            \n",
        "28. SecurityDelay       \n",
        "29. LateAircraftDelay  "
      ],
      "metadata": {
        "id": "Ly2xF6d0UXz2"
      }
    }
  ]
}