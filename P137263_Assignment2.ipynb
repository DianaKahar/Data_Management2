{
  "nbformat": 4,
  "nbformat_minor": 0,
  "metadata": {
    "colab": {
      "provenance": [],
      "authorship_tag": "ABX9TyMb8gu9ectR2r66NNpVUhZh",
      "include_colab_link": true
    },
    "kernelspec": {
      "name": "python3",
      "display_name": "Python 3"
    },
    "language_info": {
      "name": "python"
    }
  },
  "cells": [
    {
      "cell_type": "markdown",
      "metadata": {
        "id": "view-in-github",
        "colab_type": "text"
      },
      "source": [
        "<a href=\"https://colab.research.google.com/github/DianaKahar/Data_Management2/blob/main/P137263_Assignment2.ipynb\" target=\"_parent\"><img src=\"https://colab.research.google.com/assets/colab-badge.svg\" alt=\"Open In Colab\"/></a>"
      ]
    },
    {
      "cell_type": "markdown",
      "source": [
        "#**ASSIGNMENT 2**"
      ],
      "metadata": {
        "id": "6-_nUWmLTgcf"
      }
    },
    {
      "cell_type": "code",
      "source": [
        "!git config --global user.name \"DianaKahar\"\n",
        "!git config --global user.email \"dianabdkahar@gmail.com\""
      ],
      "metadata": {
        "id": "YD0A4fHzTpEF"
      },
      "execution_count": 1,
      "outputs": []
    },
    {
      "cell_type": "code",
      "source": [],
      "metadata": {
        "id": "kh-Rmr6OTrlG"
      },
      "execution_count": null,
      "outputs": []
    }
  ]
}